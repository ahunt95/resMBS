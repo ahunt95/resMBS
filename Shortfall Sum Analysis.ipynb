{
 "cells": [
  {
   "cell_type": "code",
   "execution_count": 1,
   "metadata": {},
   "outputs": [],
   "source": [
    "import numpy as np\n",
    "import pandas as pd\n",
    "import matplotlib.pyplot as plt\n",
    "%matplotlib inline "
   ]
  },
  {
   "cell_type": "code",
   "execution_count": 2,
   "metadata": {},
   "outputs": [],
   "source": [
    "# Load in all 2002 NME A class Securities\n",
    "df = pd.read_csv('November2018sample_newUSE_NME2002.csv')"
   ]
  },
  {
   "cell_type": "code",
   "execution_count": 8,
   "metadata": {},
   "outputs": [],
   "source": [
    "# Make function to bin the shortfall values\n",
    "# Bins: 0-1000, 1000-10000, 10000-100000, 100000-500000, 500000-1000000, 1000000-10000000, 10000000+\n",
    "\n",
    "shortfall = 'HIST INTRST SHRTFLL sum'\n",
    "\n",
    "def f(row):\n",
    "    # Positive bins\n",
    "    if row[shortfall] >=0 and row[shortfall] < 1000:\n",
    "        bn = '0 : 1,000'\n",
    "    elif row[shortfall] >=1000 and row[shortfall] < 10000:\n",
    "        bn = '1,000 : 10,000'\n",
    "    elif row[shortfall] >=10000 and row[shortfall] < 100000:\n",
    "        bn = '10,000 : 100,000'\n",
    "    elif row[shortfall] >=100000 and row[shortfall] < 500000:\n",
    "        bn = '100,000 : 500,000'\n",
    "    elif row[shortfall] >=500000 and row[shortfall] < 1000000:\n",
    "        bn = '500,000 : 1,000,000'\n",
    "    elif row[shortfall] >=1000000 and row[shortfall] < 10000000:\n",
    "        bn = '1,000,000 : 10,000,000'\n",
    "    elif row[shortfall] >=10000000:\n",
    "        bn = '10,000,000+'\n",
    "    \n",
    "    # Negative bins\n",
    "    elif row[shortfall] >= -1000 and row[shortfall] < 0:\n",
    "        bn = '0 : -1,000'\n",
    "    elif row[shortfall] >= -10000 and row[shortfall] < -1000:\n",
    "        bn = '-1,000 : -10,000'\n",
    "    elif row[shortfall] >= -100000 and row[shortfall] < -10000:\n",
    "        bn = '-10,000 : -100,000'\n",
    "    elif row[shortfall] >= -500000 and row[shortfall] < -100000:\n",
    "        bn = '-100,000 : -500,000'\n",
    "    elif row[shortfall] >= -1000000 and row[shortfall] < -500000:\n",
    "        bn = '-500,000 : -1,000,000'\n",
    "    elif row[shortfall] >= -10000000 and row[shortfall] < -1000000:\n",
    "        bn = '-1,000,000 : -10,000,000'\n",
    "    elif row[shortfall] < 10000000:\n",
    "        bn = '-10,000,000+'\n",
    "        \n",
    "    else:\n",
    "        bn = 'NaN'\n",
    "\n",
    "    return bn\n",
    "\n",
    "df[shortfall + ' bin'] = df.apply(f, axis=1)\n",
    "\n",
    "shortfall = 'MTG INT SHRTFLL'\n",
    "df[shortfall + ' bin'] = df.apply(f, axis=1)\n",
    "\n",
    "shortfall = 'HCLB'\n",
    "df[shortfall + ' bin'] = df.apply(f, axis=1)"
   ]
  },
  {
   "cell_type": "code",
   "execution_count": 7,
   "metadata": {},
   "outputs": [
    {
     "data": {
      "text/plain": [
       "0 : 1,000                 905\n",
       "1,000 : 10,000            357\n",
       "10,000 : 100,000          187\n",
       "100,000 : 500,000          25\n",
       "500,000 : 1,000,000         4\n",
       "1,000,000 : 10,000,000      2\n",
       "Name: HIST INTRST SHRTFLL sum bin, dtype: int64"
      ]
     },
     "execution_count": 7,
     "metadata": {},
     "output_type": "execute_result"
    }
   ],
   "source": [
    "# Count number of each bin for HIST INTRST SHRTFLL\n",
    "df['HIST INTRST SHRTFLL sum bin'].value_counts()"
   ]
  },
  {
   "cell_type": "code",
   "execution_count": 14,
   "metadata": {
    "scrolled": true
   },
   "outputs": [
    {
     "data": {
      "text/plain": [
       "<matplotlib.axes._subplots.AxesSubplot at 0x6318128>"
      ]
     },
     "execution_count": 14,
     "metadata": {},
     "output_type": "execute_result"
    },
    {
     "data": {
      "image/png": "[encoded data removed]",
      "text/plain": [
       "<Figure size 432x288 with 1 Axes>"
      ]
     },
     "metadata": {},
     "output_type": "display_data"
    }
   ],
   "source": [
    "# Frequency chart for HIST INTRST SHRTFLL\n",
    "df['HIST INTRST SHRTFLL sum bin'].value_counts().plot(kind='barh')"
   ]
  },
  {
   "cell_type": "code",
   "execution_count": 15,
   "metadata": {},
   "outputs": [
    {
     "data": {
      "text/plain": [
       "0 : 1,000           1413\n",
       "NaN                   36\n",
       "1,000 : 10,000        27\n",
       "10,000 : 100,000       4\n",
       "Name: MTG INT SHRTFLL bin, dtype: int64"
      ]
     },
     "execution_count": 15,
     "metadata": {},
     "output_type": "execute_result"
    }
   ],
   "source": [
    "# Count number of each bin for MTG INT SHRTFLL\n",
    "df['MTG INT SHRTFLL bin'].value_counts()"
   ]
  },
  {
   "cell_type": "code",
   "execution_count": 16,
   "metadata": {},
   "outputs": [
    {
     "data": {
      "text/plain": [
       "<matplotlib.axes._subplots.AxesSubplot at 0x6377320>"
      ]
     },
     "execution_count": 16,
     "metadata": {},
     "output_type": "execute_result"
    },
    {
     "data": {
      "image/png": "[encoded data removed]",
      "text/plain": [
       "<Figure size 432x288 with 1 Axes>"
      ]
     },
     "metadata": {},
     "output_type": "display_data"
    }
   ],
   "source": [
    "# Frequency chart for MTG INT SHRTFLL\n",
    "df['MTG INT SHRTFLL bin'].value_counts().plot(kind='barh')"
   ]
  },
  {
   "cell_type": "code",
   "execution_count": 17,
   "metadata": {},
   "outputs": [
    {
     "data": {
      "text/plain": [
       "NaN          1386\n",
       "0 : 1,000      94\n",
       "Name: HCLB bin, dtype: int64"
      ]
     },
     "execution_count": 17,
     "metadata": {},
     "output_type": "execute_result"
    }
   ],
   "source": [
    "# Frequency chart for HCLB\n",
    "df['HCLB bin'].value_counts()"
   ]
  },
  {
   "cell_type": "code",
   "execution_count": 18,
   "metadata": {},
   "outputs": [
    {
     "data": {
      "text/plain": [
       "<matplotlib.axes._subplots.AxesSubplot at 0x63cd4a8>"
      ]
     },
     "execution_count": 18,
     "metadata": {},
     "output_type": "execute_result"
    },
    {
     "data": {
      "image/png": "[encoded data removed]",
      "text/plain": [
       "<Figure size 432x288 with 1 Axes>"
      ]
     },
     "metadata": {},
     "output_type": "display_data"
    }
   ],
   "source": [
    "# Frequency chart for HCLB\n",
    "df['HCLB bin'].value_counts().plot(kind='barh')"
   ]
  },
  {
   "cell_type": "code",
   "execution_count": null,
   "metadata": {},
   "outputs": [],
   "source": []
  }
 ],
 "metadata": {
  "kernelspec": {
   "display_name": "Python 3",
   "language": "python",
   "name": "python3"
  },
  "language_info": {
   "codemirror_mode": {
    "name": "ipython",
    "version": 3
   },
   "file_extension": ".py",
   "mimetype": "text/x-python",
   "name": "python",
   "nbconvert_exporter": "python",
   "pygments_lexer": "ipython3",
   "version": "3.6.5"
  }
 },
 "nbformat": 4,
 "nbformat_minor": 2
}
